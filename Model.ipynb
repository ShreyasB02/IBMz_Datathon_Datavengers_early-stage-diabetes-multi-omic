{
 "cells": [
  {
   "cell_type": "markdown",
   "id": "4edc5d76-19be-4e15-98cf-c5d8f389b0f0",
   "metadata": {},
   "source": [
    " ## EARLY-STAGE PREDICTION OF DIABETES"
   ]
  },
  {
   "cell_type": "markdown",
   "id": "b7da5762-df6e-4b9b-9273-f5a3399c03fb",
   "metadata": {
    "tags": []
   },
   "source": [
    "### PCA analysis:"
   ]
  },
  {
   "cell_type": "markdown",
   "id": "409d3f09-1179-4478-85b7-937decdfcfc1",
   "metadata": {},
   "source": [
    "<img src=Images/pca1.jpg width=\"450\" height=\"450\">\n",
    "<img src=Images/pca2.jpg width=\"450\" height=\"450\">\n",
    "<img src=Images/pca3.jpg width=\"450\" height=\"450\">"
   ]
  },
  {
   "cell_type": "markdown",
   "id": "ade511c5-b94f-4c36-a667-6be0dd252e8e",
   "metadata": {},
   "source": [
    "\n",
    "The three plots are the Principal Component Analysis plots for the individual omics datasets - Metabolomics, Proteomics and Lipidomics respectively. PCA plots are used for dimensionality reduction and hence relevant feature selection. In this scenario, we select those features that show the maximum variance from the mean axes of both the principal components. \n"
   ]
  },
  {
   "cell_type": "markdown",
   "id": "1e9d125c-d63a-4866-84b8-c66041f1ede5",
   "metadata": {},
   "source": [
    "### Clustered Heatmap"
   ]
  },
  {
   "cell_type": "markdown",
   "id": "69db913f-e907-4117-b59c-cd9044dcfb6d",
   "metadata": {},
   "source": [
    "<img src=Images/heatmap.jpg width=\"450\" height=\"450\">"
   ]
  },
  {
   "cell_type": "markdown",
   "id": "cdc8c888-9b43-4e85-998d-184709a75fc7",
   "metadata": {},
   "source": [
    "The above plot is a clustered image map produced after integration of the three omics datasets. From the map, it becomes clear that the highly correlated features of each omics datasets are independent of those from the other datasets. This implies that the selected features from each dataset show little to no collinearity among each other. This indicates that the model that can be built henceforth will not be influenced by multicollinearity."
   ]
  },
  {
   "cell_type": "markdown",
   "id": "f97c99d3-3051-45ee-a779-04e727d78fe0",
   "metadata": {
    "tags": []
   },
   "source": [
    "### Importing libraries"
   ]
  },
  {
   "cell_type": "code",
   "execution_count": 1,
   "id": "377ee6ac-922e-4b97-b5c1-bbe81074368e",
   "metadata": {},
   "outputs": [],
   "source": [
    "import tensorflow as tf\n",
    "from tensorflow import keras\n",
    "from keras.models import Sequential\n",
    "from keras.layers import Flatten,Dense"
   ]
  },
  {
   "cell_type": "code",
   "execution_count": 2,
   "id": "1788cae7-0fd8-4c18-b08c-3bb992093c71",
   "metadata": {},
   "outputs": [],
   "source": [
    "import pandas as pd\n",
    "import numpy as np\n",
    "from sklearn.preprocessing import OrdinalEncoder\n",
    "from sklearn.preprocessing import MinMaxScaler\n",
    "from sklearn.model_selection import train_test_split\n",
    "\n",
    "import seaborn as sn\n",
    "import matplotlib.pyplot as plt"
   ]
  },
  {
   "cell_type": "markdown",
   "id": "6c9d78af-c483-4c47-8792-1d8399446409",
   "metadata": {},
   "source": [
    "### Reading data from the dataset"
   ]
  },
  {
   "cell_type": "code",
   "execution_count": 3,
   "id": "d9c5c6ea-cb98-4af6-ab71-29f831dc4d4d",
   "metadata": {},
   "outputs": [
    {
     "data": {
      "text/html": [
       "<div>\n",
       "<style scoped>\n",
       "    .dataframe tbody tr th:only-of-type {\n",
       "        vertical-align: middle;\n",
       "    }\n",
       "\n",
       "    .dataframe tbody tr th {\n",
       "        vertical-align: top;\n",
       "    }\n",
       "\n",
       "    .dataframe thead th {\n",
       "        text-align: right;\n",
       "    }\n",
       "</style>\n",
       "<table border=\"1\" class=\"dataframe\">\n",
       "  <thead>\n",
       "    <tr style=\"text-align: right;\">\n",
       "      <th></th>\n",
       "      <th>SampleID</th>\n",
       "      <th>TAG58.8.FA22.6.Lipidomics</th>\n",
       "      <th>TAG58.9.FA18.1.Lipidomics</th>\n",
       "      <th>TAG58.9.FA18.2.Lipidomics</th>\n",
       "      <th>TAG58.9.FA22.6.Lipidomics</th>\n",
       "      <th>TAG60.12.FA22.6.Lipidomics</th>\n",
       "      <th>VTN.Proteomics</th>\n",
       "      <th>SERPING1.Proteomics</th>\n",
       "      <th>C2.Proteomics</th>\n",
       "      <th>APCS.Proteomics</th>\n",
       "      <th>IGHV3.23.Proteomics</th>\n",
       "      <th>C16H15NO5.Metabolomics</th>\n",
       "      <th>C19H34O15.Metabolomics</th>\n",
       "      <th>Tryptophan.betaine.2..Metabolomics</th>\n",
       "      <th>C12H22N6O2.Metabolomics</th>\n",
       "      <th>C22.4.FA..Adrenic.acid..Metabolomics</th>\n",
       "      <th>Class</th>\n",
       "    </tr>\n",
       "  </thead>\n",
       "  <tbody>\n",
       "    <tr>\n",
       "      <th>0</th>\n",
       "      <td>ZOZOW1T-E11</td>\n",
       "      <td>1.7333</td>\n",
       "      <td>0.3811</td>\n",
       "      <td>0.3294</td>\n",
       "      <td>1.2646</td>\n",
       "      <td>0.2614</td>\n",
       "      <td>19458794.50</td>\n",
       "      <td>1.461850e+07</td>\n",
       "      <td>1711759.988</td>\n",
       "      <td>255568.0566</td>\n",
       "      <td>285553.98650</td>\n",
       "      <td>203417.8525</td>\n",
       "      <td>460302.0576</td>\n",
       "      <td>2060173.894</td>\n",
       "      <td>31369.16763</td>\n",
       "      <td>1.712774e+06</td>\n",
       "      <td>Diabetic</td>\n",
       "    </tr>\n",
       "    <tr>\n",
       "      <th>1</th>\n",
       "      <td>ZOZOW1T-E13</td>\n",
       "      <td>2.3332</td>\n",
       "      <td>0.5340</td>\n",
       "      <td>0.4847</td>\n",
       "      <td>1.8426</td>\n",
       "      <td>0.3826</td>\n",
       "      <td>16756529.00</td>\n",
       "      <td>1.312942e+07</td>\n",
       "      <td>1852381.727</td>\n",
       "      <td>159489.2876</td>\n",
       "      <td>174217.49720</td>\n",
       "      <td>145883.3609</td>\n",
       "      <td>407376.1750</td>\n",
       "      <td>1998828.928</td>\n",
       "      <td>70453.34467</td>\n",
       "      <td>4.534891e+05</td>\n",
       "      <td>Diabetic</td>\n",
       "    </tr>\n",
       "    <tr>\n",
       "      <th>2</th>\n",
       "      <td>ZOZOW1T-E14</td>\n",
       "      <td>2.0813</td>\n",
       "      <td>0.4820</td>\n",
       "      <td>0.4150</td>\n",
       "      <td>1.5556</td>\n",
       "      <td>0.3722</td>\n",
       "      <td>17211505.97</td>\n",
       "      <td>9.994272e+06</td>\n",
       "      <td>1653257.482</td>\n",
       "      <td>386988.1863</td>\n",
       "      <td>52239.37442</td>\n",
       "      <td>214421.1407</td>\n",
       "      <td>471304.8475</td>\n",
       "      <td>1948344.700</td>\n",
       "      <td>56703.69654</td>\n",
       "      <td>1.089655e+06</td>\n",
       "      <td>Diabetic</td>\n",
       "    </tr>\n",
       "    <tr>\n",
       "      <th>3</th>\n",
       "      <td>ZOZOW1T-E15</td>\n",
       "      <td>2.4707</td>\n",
       "      <td>0.5789</td>\n",
       "      <td>0.5181</td>\n",
       "      <td>1.9865</td>\n",
       "      <td>0.3995</td>\n",
       "      <td>19592660.78</td>\n",
       "      <td>1.466883e+07</td>\n",
       "      <td>1597317.859</td>\n",
       "      <td>217286.6480</td>\n",
       "      <td>333315.75820</td>\n",
       "      <td>186034.3336</td>\n",
       "      <td>479863.0002</td>\n",
       "      <td>2067495.077</td>\n",
       "      <td>50950.21936</td>\n",
       "      <td>1.919184e+06</td>\n",
       "      <td>Diabetic</td>\n",
       "    </tr>\n",
       "    <tr>\n",
       "      <th>4</th>\n",
       "      <td>ZOBX723-E11</td>\n",
       "      <td>2.5277</td>\n",
       "      <td>0.4301</td>\n",
       "      <td>0.4367</td>\n",
       "      <td>1.9111</td>\n",
       "      <td>0.1743</td>\n",
       "      <td>18536300.48</td>\n",
       "      <td>1.121176e+07</td>\n",
       "      <td>1635647.007</td>\n",
       "      <td>454254.0967</td>\n",
       "      <td>86056.10958</td>\n",
       "      <td>302531.9045</td>\n",
       "      <td>388315.7024</td>\n",
       "      <td>2848340.138</td>\n",
       "      <td>30327.68726</td>\n",
       "      <td>1.589609e+06</td>\n",
       "      <td>Prediabetic</td>\n",
       "    </tr>\n",
       "  </tbody>\n",
       "</table>\n",
       "</div>"
      ],
      "text/plain": [
       "      SampleID  TAG58.8.FA22.6.Lipidomics  TAG58.9.FA18.1.Lipidomics  \\\n",
       "0  ZOZOW1T-E11                     1.7333                     0.3811   \n",
       "1  ZOZOW1T-E13                     2.3332                     0.5340   \n",
       "2  ZOZOW1T-E14                     2.0813                     0.4820   \n",
       "3  ZOZOW1T-E15                     2.4707                     0.5789   \n",
       "4  ZOBX723-E11                     2.5277                     0.4301   \n",
       "\n",
       "   TAG58.9.FA18.2.Lipidomics  TAG58.9.FA22.6.Lipidomics  \\\n",
       "0                     0.3294                     1.2646   \n",
       "1                     0.4847                     1.8426   \n",
       "2                     0.4150                     1.5556   \n",
       "3                     0.5181                     1.9865   \n",
       "4                     0.4367                     1.9111   \n",
       "\n",
       "   TAG60.12.FA22.6.Lipidomics  VTN.Proteomics  SERPING1.Proteomics  \\\n",
       "0                      0.2614     19458794.50         1.461850e+07   \n",
       "1                      0.3826     16756529.00         1.312942e+07   \n",
       "2                      0.3722     17211505.97         9.994272e+06   \n",
       "3                      0.3995     19592660.78         1.466883e+07   \n",
       "4                      0.1743     18536300.48         1.121176e+07   \n",
       "\n",
       "   C2.Proteomics  APCS.Proteomics  IGHV3.23.Proteomics  \\\n",
       "0    1711759.988      255568.0566         285553.98650   \n",
       "1    1852381.727      159489.2876         174217.49720   \n",
       "2    1653257.482      386988.1863          52239.37442   \n",
       "3    1597317.859      217286.6480         333315.75820   \n",
       "4    1635647.007      454254.0967          86056.10958   \n",
       "\n",
       "   C16H15NO5.Metabolomics  C19H34O15.Metabolomics  \\\n",
       "0             203417.8525             460302.0576   \n",
       "1             145883.3609             407376.1750   \n",
       "2             214421.1407             471304.8475   \n",
       "3             186034.3336             479863.0002   \n",
       "4             302531.9045             388315.7024   \n",
       "\n",
       "   Tryptophan.betaine.2..Metabolomics  C12H22N6O2.Metabolomics  \\\n",
       "0                         2060173.894              31369.16763   \n",
       "1                         1998828.928              70453.34467   \n",
       "2                         1948344.700              56703.69654   \n",
       "3                         2067495.077              50950.21936   \n",
       "4                         2848340.138              30327.68726   \n",
       "\n",
       "   C22.4.FA..Adrenic.acid..Metabolomics        Class  \n",
       "0                          1.712774e+06     Diabetic  \n",
       "1                          4.534891e+05     Diabetic  \n",
       "2                          1.089655e+06     Diabetic  \n",
       "3                          1.919184e+06     Diabetic  \n",
       "4                          1.589609e+06  Prediabetic  "
      ]
     },
     "execution_count": 3,
     "metadata": {},
     "output_type": "execute_result"
    }
   ],
   "source": [
    "df=pd.read_csv('datasets/lpm.csv')\n",
    "df.head()"
   ]
  },
  {
   "cell_type": "code",
   "execution_count": 4,
   "id": "e6441528",
   "metadata": {},
   "outputs": [
    {
     "name": "stdout",
     "output_type": "stream",
     "text": [
      "<class 'pandas.core.frame.DataFrame'>\n",
      "RangeIndex: 169 entries, 0 to 168\n",
      "Data columns (total 17 columns):\n",
      " #   Column                                Non-Null Count  Dtype  \n",
      "---  ------                                --------------  -----  \n",
      " 0   SampleID                              169 non-null    object \n",
      " 1   TAG58.8.FA22.6.Lipidomics             169 non-null    float64\n",
      " 2   TAG58.9.FA18.1.Lipidomics             169 non-null    float64\n",
      " 3   TAG58.9.FA18.2.Lipidomics             169 non-null    float64\n",
      " 4   TAG58.9.FA22.6.Lipidomics             169 non-null    float64\n",
      " 5   TAG60.12.FA22.6.Lipidomics            169 non-null    float64\n",
      " 6   VTN.Proteomics                        169 non-null    float64\n",
      " 7   SERPING1.Proteomics                   169 non-null    float64\n",
      " 8   C2.Proteomics                         169 non-null    float64\n",
      " 9   APCS.Proteomics                       169 non-null    float64\n",
      " 10  IGHV3.23.Proteomics                   169 non-null    float64\n",
      " 11  C16H15NO5.Metabolomics                169 non-null    float64\n",
      " 12  C19H34O15.Metabolomics                169 non-null    float64\n",
      " 13  Tryptophan.betaine.2..Metabolomics    169 non-null    float64\n",
      " 14  C12H22N6O2.Metabolomics               169 non-null    float64\n",
      " 15  C22.4.FA..Adrenic.acid..Metabolomics  169 non-null    float64\n",
      " 16  Class                                 169 non-null    object \n",
      "dtypes: float64(15), object(2)\n",
      "memory usage: 22.6+ KB\n"
     ]
    }
   ],
   "source": [
    "df.info()"
   ]
  },
  {
   "cell_type": "markdown",
   "id": "8e0cf051-fdd2-4527-9098-f145facdb1a6",
   "metadata": {},
   "source": [
    "### Preprocessing Data"
   ]
  },
  {
   "cell_type": "code",
   "execution_count": 29,
   "id": "836c86ff",
   "metadata": {},
   "outputs": [
    {
     "data": {
      "text/plain": [
       "array(['Diabetic', 'Prediabetic', 'Crossover', 'Control'], dtype=object)"
      ]
     },
     "execution_count": 29,
     "metadata": {},
     "output_type": "execute_result"
    }
   ],
   "source": [
    "df[\"Class\"].unique()"
   ]
  },
  {
   "cell_type": "code",
   "execution_count": 35,
   "id": "39c816c3-9814-4e53-b657-09d48ad6c23d",
   "metadata": {},
   "outputs": [
    {
     "data": {
      "text/html": [
       "<div>\n",
       "<style scoped>\n",
       "    .dataframe tbody tr th:only-of-type {\n",
       "        vertical-align: middle;\n",
       "    }\n",
       "\n",
       "    .dataframe tbody tr th {\n",
       "        vertical-align: top;\n",
       "    }\n",
       "\n",
       "    .dataframe thead th {\n",
       "        text-align: right;\n",
       "    }\n",
       "</style>\n",
       "<table border=\"1\" class=\"dataframe\">\n",
       "  <thead>\n",
       "    <tr style=\"text-align: right;\">\n",
       "      <th></th>\n",
       "      <th>Class</th>\n",
       "      <th>class_code</th>\n",
       "    </tr>\n",
       "  </thead>\n",
       "  <tbody>\n",
       "    <tr>\n",
       "      <th>0</th>\n",
       "      <td>Diabetic</td>\n",
       "      <td>2.0</td>\n",
       "    </tr>\n",
       "    <tr>\n",
       "      <th>1</th>\n",
       "      <td>Diabetic</td>\n",
       "      <td>2.0</td>\n",
       "    </tr>\n",
       "    <tr>\n",
       "      <th>2</th>\n",
       "      <td>Diabetic</td>\n",
       "      <td>2.0</td>\n",
       "    </tr>\n",
       "    <tr>\n",
       "      <th>3</th>\n",
       "      <td>Diabetic</td>\n",
       "      <td>2.0</td>\n",
       "    </tr>\n",
       "    <tr>\n",
       "      <th>4</th>\n",
       "      <td>Prediabetic</td>\n",
       "      <td>3.0</td>\n",
       "    </tr>\n",
       "  </tbody>\n",
       "</table>\n",
       "</div>"
      ],
      "text/plain": [
       "         Class  class_code\n",
       "0     Diabetic         2.0\n",
       "1     Diabetic         2.0\n",
       "2     Diabetic         2.0\n",
       "3     Diabetic         2.0\n",
       "4  Prediabetic         3.0"
      ]
     },
     "execution_count": 35,
     "metadata": {},
     "output_type": "execute_result"
    }
   ],
   "source": [
    "ord_enc = OrdinalEncoder()\n",
    "ord_enc = ord_enc.fit(df[[\"Class\"]])\n",
    "df[\"class_code\"] = ord_enc.transform(df[[\"Class\"]])\n",
    "df[[\"Class\", \"class_code\"]].head(5 )"
   ]
  },
  {
   "cell_type": "code",
   "execution_count": 41,
   "id": "eed4a781",
   "metadata": {},
   "outputs": [
    {
     "data": {
      "text/plain": [
       "[array(['Control', 'Crossover', 'Diabetic', 'Prediabetic'], dtype=object)]"
      ]
     },
     "execution_count": 41,
     "metadata": {},
     "output_type": "execute_result"
    }
   ],
   "source": [
    "ord_enc.categories_"
   ]
  },
  {
   "cell_type": "code",
   "execution_count": 7,
   "id": "97a02c0a-1d3d-48fa-9221-6dc37e616ad9",
   "metadata": {},
   "outputs": [
    {
     "data": {
      "text/plain": [
       "0"
      ]
     },
     "execution_count": 7,
     "metadata": {},
     "output_type": "execute_result"
    }
   ],
   "source": [
    "df = df.astype({'class_code':'int'})\n",
    "\n",
    "df['class_code'].isnull().sum()"
   ]
  },
  {
   "cell_type": "code",
   "execution_count": 8,
   "id": "126917f7-439d-4100-8c09-bd2e80ea36fd",
   "metadata": {},
   "outputs": [],
   "source": [
    "y=df.iloc[:,17:]\n",
    "x=df.iloc[:,1:16]"
   ]
  },
  {
   "cell_type": "code",
   "execution_count": 42,
   "id": "37005e56-ffe0-473d-b999-95281fa32b19",
   "metadata": {},
   "outputs": [],
   "source": [
    "cols_to_scale = ['TAG58.8.FA22.6.Lipidomics', 'TAG58.9.FA18.1.Lipidomics',\n",
    "       'TAG58.9.FA18.2.Lipidomics', 'TAG58.9.FA22.6.Lipidomics',\n",
    "       'TAG60.12.FA22.6.Lipidomics', 'VTN.Proteomics', 'SERPING1.Proteomics',\n",
    "       'C2.Proteomics', 'APCS.Proteomics', 'IGHV3.23.Proteomics',\n",
    "       'C16H15NO5.Metabolomics', 'C19H34O15.Metabolomics',\n",
    "       'Tryptophan.betaine.2..Metabolomics', 'C12H22N6O2.Metabolomics',\n",
    "       'C22.4.FA..Adrenic.acid..Metabolomics']\n",
    "\n",
    "scaler = MinMaxScaler()\n",
    "scaler = scaler.fit(x[cols_to_scale])\n",
    "x[cols_to_scale] = scaler.transform(x[cols_to_scale])"
   ]
  },
  {
   "cell_type": "code",
   "execution_count": 10,
   "id": "e24632d7-58bc-4a8e-9416-7afea027281f",
   "metadata": {},
   "outputs": [
    {
     "data": {
      "text/plain": [
       "array([2, 3, 1, 0])"
      ]
     },
     "execution_count": 10,
     "metadata": {},
     "output_type": "execute_result"
    }
   ],
   "source": [
    "df.class_code.unique()"
   ]
  },
  {
   "cell_type": "code",
   "execution_count": 11,
   "id": "0605334c-4acc-4b77-9f1d-df0243c7e603",
   "metadata": {},
   "outputs": [
    {
     "data": {
      "text/html": [
       "<div>\n",
       "<style scoped>\n",
       "    .dataframe tbody tr th:only-of-type {\n",
       "        vertical-align: middle;\n",
       "    }\n",
       "\n",
       "    .dataframe tbody tr th {\n",
       "        vertical-align: top;\n",
       "    }\n",
       "\n",
       "    .dataframe thead th {\n",
       "        text-align: right;\n",
       "    }\n",
       "</style>\n",
       "<table border=\"1\" class=\"dataframe\">\n",
       "  <thead>\n",
       "    <tr style=\"text-align: right;\">\n",
       "      <th></th>\n",
       "      <th>TAG58.8.FA22.6.Lipidomics</th>\n",
       "      <th>TAG58.9.FA18.1.Lipidomics</th>\n",
       "      <th>TAG58.9.FA18.2.Lipidomics</th>\n",
       "      <th>TAG58.9.FA22.6.Lipidomics</th>\n",
       "      <th>TAG60.12.FA22.6.Lipidomics</th>\n",
       "      <th>VTN.Proteomics</th>\n",
       "      <th>SERPING1.Proteomics</th>\n",
       "      <th>C2.Proteomics</th>\n",
       "      <th>APCS.Proteomics</th>\n",
       "      <th>IGHV3.23.Proteomics</th>\n",
       "      <th>C16H15NO5.Metabolomics</th>\n",
       "      <th>C19H34O15.Metabolomics</th>\n",
       "      <th>Tryptophan.betaine.2..Metabolomics</th>\n",
       "      <th>C12H22N6O2.Metabolomics</th>\n",
       "      <th>C22.4.FA..Adrenic.acid..Metabolomics</th>\n",
       "    </tr>\n",
       "  </thead>\n",
       "  <tbody>\n",
       "    <tr>\n",
       "      <th>0</th>\n",
       "      <td>0.064727</td>\n",
       "      <td>0.086858</td>\n",
       "      <td>0.064414</td>\n",
       "      <td>0.060698</td>\n",
       "      <td>0.063803</td>\n",
       "      <td>0.279259</td>\n",
       "      <td>0.354406</td>\n",
       "      <td>0.491999</td>\n",
       "      <td>0.174957</td>\n",
       "      <td>0.075314</td>\n",
       "      <td>0.129512</td>\n",
       "      <td>0.256693</td>\n",
       "      <td>0.075268</td>\n",
       "      <td>0.012523</td>\n",
       "      <td>0.286398</td>\n",
       "    </tr>\n",
       "    <tr>\n",
       "      <th>1</th>\n",
       "      <td>0.097531</td>\n",
       "      <td>0.151928</td>\n",
       "      <td>0.135513</td>\n",
       "      <td>0.106049</td>\n",
       "      <td>0.098668</td>\n",
       "      <td>0.207355</td>\n",
       "      <td>0.297426</td>\n",
       "      <td>0.559155</td>\n",
       "      <td>0.104658</td>\n",
       "      <td>0.039375</td>\n",
       "      <td>0.088670</td>\n",
       "      <td>0.220422</td>\n",
       "      <td>0.072615</td>\n",
       "      <td>0.071703</td>\n",
       "      <td>0.012055</td>\n",
       "    </tr>\n",
       "    <tr>\n",
       "      <th>2</th>\n",
       "      <td>0.083756</td>\n",
       "      <td>0.129798</td>\n",
       "      <td>0.103603</td>\n",
       "      <td>0.083530</td>\n",
       "      <td>0.095676</td>\n",
       "      <td>0.219461</td>\n",
       "      <td>0.177458</td>\n",
       "      <td>0.464060</td>\n",
       "      <td>0.271115</td>\n",
       "      <td>0.000000</td>\n",
       "      <td>0.137323</td>\n",
       "      <td>0.264233</td>\n",
       "      <td>0.070432</td>\n",
       "      <td>0.050884</td>\n",
       "      <td>0.150648</td>\n",
       "    </tr>\n",
       "    <tr>\n",
       "      <th>3</th>\n",
       "      <td>0.105049</td>\n",
       "      <td>0.171036</td>\n",
       "      <td>0.150803</td>\n",
       "      <td>0.117339</td>\n",
       "      <td>0.103530</td>\n",
       "      <td>0.282821</td>\n",
       "      <td>0.356331</td>\n",
       "      <td>0.437345</td>\n",
       "      <td>0.146947</td>\n",
       "      <td>0.090732</td>\n",
       "      <td>0.117172</td>\n",
       "      <td>0.270098</td>\n",
       "      <td>0.075585</td>\n",
       "      <td>0.042172</td>\n",
       "      <td>0.331366</td>\n",
       "    </tr>\n",
       "    <tr>\n",
       "      <th>4</th>\n",
       "      <td>0.108166</td>\n",
       "      <td>0.107711</td>\n",
       "      <td>0.113538</td>\n",
       "      <td>0.111423</td>\n",
       "      <td>0.038748</td>\n",
       "      <td>0.254712</td>\n",
       "      <td>0.224046</td>\n",
       "      <td>0.455650</td>\n",
       "      <td>0.320333</td>\n",
       "      <td>0.010916</td>\n",
       "      <td>0.199870</td>\n",
       "      <td>0.207359</td>\n",
       "      <td>0.109352</td>\n",
       "      <td>0.010946</td>\n",
       "      <td>0.259566</td>\n",
       "    </tr>\n",
       "  </tbody>\n",
       "</table>\n",
       "</div>"
      ],
      "text/plain": [
       "   TAG58.8.FA22.6.Lipidomics  TAG58.9.FA18.1.Lipidomics  \\\n",
       "0                   0.064727                   0.086858   \n",
       "1                   0.097531                   0.151928   \n",
       "2                   0.083756                   0.129798   \n",
       "3                   0.105049                   0.171036   \n",
       "4                   0.108166                   0.107711   \n",
       "\n",
       "   TAG58.9.FA18.2.Lipidomics  TAG58.9.FA22.6.Lipidomics  \\\n",
       "0                   0.064414                   0.060698   \n",
       "1                   0.135513                   0.106049   \n",
       "2                   0.103603                   0.083530   \n",
       "3                   0.150803                   0.117339   \n",
       "4                   0.113538                   0.111423   \n",
       "\n",
       "   TAG60.12.FA22.6.Lipidomics  VTN.Proteomics  SERPING1.Proteomics  \\\n",
       "0                    0.063803        0.279259             0.354406   \n",
       "1                    0.098668        0.207355             0.297426   \n",
       "2                    0.095676        0.219461             0.177458   \n",
       "3                    0.103530        0.282821             0.356331   \n",
       "4                    0.038748        0.254712             0.224046   \n",
       "\n",
       "   C2.Proteomics  APCS.Proteomics  IGHV3.23.Proteomics  \\\n",
       "0       0.491999         0.174957             0.075314   \n",
       "1       0.559155         0.104658             0.039375   \n",
       "2       0.464060         0.271115             0.000000   \n",
       "3       0.437345         0.146947             0.090732   \n",
       "4       0.455650         0.320333             0.010916   \n",
       "\n",
       "   C16H15NO5.Metabolomics  C19H34O15.Metabolomics  \\\n",
       "0                0.129512                0.256693   \n",
       "1                0.088670                0.220422   \n",
       "2                0.137323                0.264233   \n",
       "3                0.117172                0.270098   \n",
       "4                0.199870                0.207359   \n",
       "\n",
       "   Tryptophan.betaine.2..Metabolomics  C12H22N6O2.Metabolomics  \\\n",
       "0                            0.075268                 0.012523   \n",
       "1                            0.072615                 0.071703   \n",
       "2                            0.070432                 0.050884   \n",
       "3                            0.075585                 0.042172   \n",
       "4                            0.109352                 0.010946   \n",
       "\n",
       "   C22.4.FA..Adrenic.acid..Metabolomics  \n",
       "0                              0.286398  \n",
       "1                              0.012055  \n",
       "2                              0.150648  \n",
       "3                              0.331366  \n",
       "4                              0.259566  "
      ]
     },
     "execution_count": 11,
     "metadata": {},
     "output_type": "execute_result"
    }
   ],
   "source": [
    "x.shape\n",
    "x.head()"
   ]
  },
  {
   "cell_type": "code",
   "execution_count": 12,
   "id": "8410c757-3757-4bc7-af0f-4fe973a661e6",
   "metadata": {},
   "outputs": [],
   "source": [
    "class_labels=['Control','Crossover','Diabetic','Prediabetic']"
   ]
  },
  {
   "cell_type": "markdown",
   "id": "b6911e8f-6648-432c-bd95-4cca78fde1f8",
   "metadata": {},
   "source": [
    "### Building a model"
   ]
  },
  {
   "cell_type": "code",
   "execution_count": 13,
   "id": "b3af29e1-8f2a-4404-9da9-b7f7762be49e",
   "metadata": {},
   "outputs": [
    {
     "name": "stderr",
     "output_type": "stream",
     "text": [
      "2023-02-05 01:44:01.262459: I tensorflow/core/platform/cpu_feature_guard.cc:151] This TensorFlow binary is optimized with oneAPI Deep Neural Network Library (oneDNN) to use the following CPU instructions in performance-critical operations:  SSE4.1 SSE4.2 AVX AVX2 FMA\n",
      "To enable them in other operations, rebuild TensorFlow with the appropriate compiler flags.\n"
     ]
    }
   ],
   "source": [
    "model=keras.Sequential([\n",
    "      keras.layers.Dense(15,input_shape=(15,),activation='relu'),\n",
    "      keras.layers.Dense(100,activation='relu'),\n",
    "      keras.layers.Dense(100,activation='relu'),\n",
    "      keras.layers.Dense(100,activation='relu'),\n",
    "      keras.layers.Dense(4,activation='softmax')\n",
    "])"
   ]
  },
  {
   "cell_type": "code",
   "execution_count": 14,
   "id": "95a60e00-e834-4507-a442-ae5b60dd1da7",
   "metadata": {},
   "outputs": [
    {
     "name": "stdout",
     "output_type": "stream",
     "text": [
      "Model: \"sequential\"\n",
      "_________________________________________________________________\n",
      " Layer (type)                Output Shape              Param #   \n",
      "=================================================================\n",
      " dense (Dense)               (None, 15)                240       \n",
      "                                                                 \n",
      " dense_1 (Dense)             (None, 100)               1600      \n",
      "                                                                 \n",
      " dense_2 (Dense)             (None, 100)               10100     \n",
      "                                                                 \n",
      " dense_3 (Dense)             (None, 100)               10100     \n",
      "                                                                 \n",
      " dense_4 (Dense)             (None, 4)                 404       \n",
      "                                                                 \n",
      "=================================================================\n",
      "Total params: 22,444\n",
      "Trainable params: 22,444\n",
      "Non-trainable params: 0\n",
      "_________________________________________________________________\n"
     ]
    }
   ],
   "source": [
    "model.summary()"
   ]
  },
  {
   "cell_type": "markdown",
   "id": "a57807ab-e1a9-4ad5-8775-1ca8025a5583",
   "metadata": {},
   "source": [
    "### Loss and Optimizations"
   ]
  },
  {
   "cell_type": "code",
   "execution_count": 15,
   "id": "141b75b9-f6e1-4196-b776-7b5a679de3d7",
   "metadata": {},
   "outputs": [],
   "source": [
    "loss_fn = tf.keras.losses.SparseCategoricalCrossentropy(from_logits=True)\n",
    "model.compile(loss=loss_fn,optimizer='Adam',metrics=['Accuracy'])"
   ]
  },
  {
   "cell_type": "markdown",
   "id": "291a228c-173f-4b27-a276-6055cab68c6e",
   "metadata": {},
   "source": [
    "### Splitting the dataset into test and train"
   ]
  },
  {
   "cell_type": "code",
   "execution_count": 16,
   "id": "301481ad-8f30-4f5f-a568-3abd50a853a2",
   "metadata": {},
   "outputs": [],
   "source": [
    "\n",
    "X_train,X_test,Y_train,Y_test=train_test_split(x,y,train_size=0.8,shuffle=True)"
   ]
  },
  {
   "cell_type": "markdown",
   "id": "b962e672-22d4-421e-8323-4aaed468b5e7",
   "metadata": {},
   "source": [
    "### Training the model"
   ]
  },
  {
   "cell_type": "code",
   "execution_count": 49,
   "id": "c030f4b4-1080-4809-9694-9b8b9ee9bc91",
   "metadata": {},
   "outputs": [
    {
     "name": "stdout",
     "output_type": "stream",
     "text": [
      "Epoch 1/100\n",
      "4/4 [==============================] - 0s 32ms/step - loss: 0.0229 - Accuracy: 1.0000 - val_loss: 0.0135 - val_Accuracy: 1.0000\n",
      "Epoch 2/100\n",
      "4/4 [==============================] - 0s 10ms/step - loss: 0.0233 - Accuracy: 1.0000 - val_loss: 0.0105 - val_Accuracy: 1.0000\n",
      "Epoch 3/100\n",
      "4/4 [==============================] - 0s 9ms/step - loss: 0.0210 - Accuracy: 1.0000 - val_loss: 0.0095 - val_Accuracy: 1.0000\n",
      "Epoch 4/100\n",
      "4/4 [==============================] - 0s 10ms/step - loss: 0.0222 - Accuracy: 1.0000 - val_loss: 0.0088 - val_Accuracy: 1.0000\n",
      "Epoch 5/100\n",
      "4/4 [==============================] - 0s 9ms/step - loss: 0.0200 - Accuracy: 1.0000 - val_loss: 0.0105 - val_Accuracy: 1.0000\n",
      "Epoch 6/100\n",
      "4/4 [==============================] - 0s 10ms/step - loss: 0.0192 - Accuracy: 1.0000 - val_loss: 0.0144 - val_Accuracy: 1.0000\n",
      "Epoch 7/100\n",
      "4/4 [==============================] - 0s 9ms/step - loss: 0.0226 - Accuracy: 1.0000 - val_loss: 0.0119 - val_Accuracy: 1.0000\n",
      "Epoch 8/100\n",
      "4/4 [==============================] - 0s 10ms/step - loss: 0.0197 - Accuracy: 1.0000 - val_loss: 0.0107 - val_Accuracy: 1.0000\n",
      "Epoch 9/100\n",
      "4/4 [==============================] - 0s 9ms/step - loss: 0.0214 - Accuracy: 1.0000 - val_loss: 0.0121 - val_Accuracy: 1.0000\n",
      "Epoch 10/100\n",
      "4/4 [==============================] - 0s 9ms/step - loss: 0.0163 - Accuracy: 1.0000 - val_loss: 0.0160 - val_Accuracy: 1.0000\n",
      "Epoch 11/100\n",
      "4/4 [==============================] - 0s 9ms/step - loss: 0.0222 - Accuracy: 1.0000 - val_loss: 0.0143 - val_Accuracy: 1.0000\n",
      "Epoch 12/100\n",
      "4/4 [==============================] - 0s 10ms/step - loss: 0.0186 - Accuracy: 1.0000 - val_loss: 0.0105 - val_Accuracy: 1.0000\n",
      "Epoch 13/100\n",
      "4/4 [==============================] - 0s 9ms/step - loss: 0.0186 - Accuracy: 1.0000 - val_loss: 0.0117 - val_Accuracy: 1.0000\n",
      "Epoch 14/100\n",
      "4/4 [==============================] - 0s 9ms/step - loss: 0.0204 - Accuracy: 1.0000 - val_loss: 0.0152 - val_Accuracy: 1.0000\n",
      "Epoch 15/100\n",
      "4/4 [==============================] - 0s 10ms/step - loss: 0.0176 - Accuracy: 1.0000 - val_loss: 0.0214 - val_Accuracy: 1.0000\n",
      "Epoch 16/100\n",
      "4/4 [==============================] - 0s 9ms/step - loss: 0.0189 - Accuracy: 1.0000 - val_loss: 0.0146 - val_Accuracy: 1.0000\n",
      "Epoch 17/100\n",
      "4/4 [==============================] - 0s 9ms/step - loss: 0.0161 - Accuracy: 1.0000 - val_loss: 0.0129 - val_Accuracy: 1.0000\n",
      "Epoch 18/100\n",
      "4/4 [==============================] - 0s 9ms/step - loss: 0.0181 - Accuracy: 1.0000 - val_loss: 0.0135 - val_Accuracy: 1.0000\n",
      "Epoch 19/100\n",
      "4/4 [==============================] - 0s 8ms/step - loss: 0.0148 - Accuracy: 1.0000 - val_loss: 0.0170 - val_Accuracy: 1.0000\n",
      "Epoch 20/100\n",
      "4/4 [==============================] - 0s 9ms/step - loss: 0.0153 - Accuracy: 1.0000 - val_loss: 0.0176 - val_Accuracy: 1.0000\n",
      "Epoch 21/100\n",
      "4/4 [==============================] - 0s 8ms/step - loss: 0.0149 - Accuracy: 1.0000 - val_loss: 0.0149 - val_Accuracy: 1.0000\n",
      "Epoch 22/100\n",
      "4/4 [==============================] - 0s 8ms/step - loss: 0.0140 - Accuracy: 1.0000 - val_loss: 0.0142 - val_Accuracy: 1.0000\n",
      "Epoch 23/100\n",
      "4/4 [==============================] - 0s 8ms/step - loss: 0.0136 - Accuracy: 1.0000 - val_loss: 0.0164 - val_Accuracy: 1.0000\n",
      "Epoch 24/100\n",
      "4/4 [==============================] - 0s 8ms/step - loss: 0.0137 - Accuracy: 1.0000 - val_loss: 0.0157 - val_Accuracy: 1.0000\n",
      "Epoch 25/100\n",
      "4/4 [==============================] - 0s 9ms/step - loss: 0.0135 - Accuracy: 1.0000 - val_loss: 0.0145 - val_Accuracy: 1.0000\n",
      "Epoch 26/100\n",
      "4/4 [==============================] - 0s 8ms/step - loss: 0.0131 - Accuracy: 1.0000 - val_loss: 0.0144 - val_Accuracy: 1.0000\n",
      "Epoch 27/100\n",
      "4/4 [==============================] - 0s 8ms/step - loss: 0.0142 - Accuracy: 1.0000 - val_loss: 0.0141 - val_Accuracy: 1.0000\n",
      "Epoch 28/100\n",
      "4/4 [==============================] - 0s 8ms/step - loss: 0.0131 - Accuracy: 1.0000 - val_loss: 0.0177 - val_Accuracy: 1.0000\n",
      "Epoch 29/100\n",
      "4/4 [==============================] - 0s 11ms/step - loss: 0.0121 - Accuracy: 1.0000 - val_loss: 0.0204 - val_Accuracy: 1.0000\n",
      "Epoch 30/100\n",
      "4/4 [==============================] - 0s 9ms/step - loss: 0.0120 - Accuracy: 1.0000 - val_loss: 0.0190 - val_Accuracy: 1.0000\n",
      "Epoch 31/100\n",
      "4/4 [==============================] - 0s 9ms/step - loss: 0.0118 - Accuracy: 1.0000 - val_loss: 0.0181 - val_Accuracy: 1.0000\n",
      "Epoch 32/100\n",
      "4/4 [==============================] - 0s 8ms/step - loss: 0.0116 - Accuracy: 1.0000 - val_loss: 0.0172 - val_Accuracy: 1.0000\n",
      "Epoch 33/100\n",
      "4/4 [==============================] - 0s 12ms/step - loss: 0.0111 - Accuracy: 1.0000 - val_loss: 0.0189 - val_Accuracy: 1.0000\n",
      "Epoch 34/100\n",
      "4/4 [==============================] - 0s 9ms/step - loss: 0.0122 - Accuracy: 1.0000 - val_loss: 0.0197 - val_Accuracy: 1.0000\n",
      "Epoch 35/100\n",
      "4/4 [==============================] - 0s 9ms/step - loss: 0.0115 - Accuracy: 1.0000 - val_loss: 0.0169 - val_Accuracy: 1.0000\n",
      "Epoch 36/100\n",
      "4/4 [==============================] - 0s 8ms/step - loss: 0.0133 - Accuracy: 1.0000 - val_loss: 0.0186 - val_Accuracy: 1.0000\n",
      "Epoch 37/100\n",
      "4/4 [==============================] - 0s 28ms/step - loss: 0.0112 - Accuracy: 1.0000 - val_loss: 0.0270 - val_Accuracy: 1.0000\n",
      "Epoch 38/100\n",
      "4/4 [==============================] - 0s 19ms/step - loss: 0.0112 - Accuracy: 1.0000 - val_loss: 0.0304 - val_Accuracy: 1.0000\n",
      "Epoch 39/100\n",
      "4/4 [==============================] - 0s 10ms/step - loss: 0.0109 - Accuracy: 1.0000 - val_loss: 0.0216 - val_Accuracy: 1.0000\n",
      "Epoch 40/100\n",
      "4/4 [==============================] - 0s 9ms/step - loss: 0.0103 - Accuracy: 1.0000 - val_loss: 0.0162 - val_Accuracy: 1.0000\n",
      "Epoch 41/100\n",
      "4/4 [==============================] - 0s 8ms/step - loss: 0.0111 - Accuracy: 1.0000 - val_loss: 0.0171 - val_Accuracy: 1.0000\n",
      "Epoch 42/100\n",
      "4/4 [==============================] - 0s 8ms/step - loss: 0.0098 - Accuracy: 1.0000 - val_loss: 0.0228 - val_Accuracy: 1.0000\n",
      "Epoch 43/100\n",
      "4/4 [==============================] - 0s 9ms/step - loss: 0.0100 - Accuracy: 1.0000 - val_loss: 0.0267 - val_Accuracy: 1.0000\n",
      "Epoch 44/100\n",
      "4/4 [==============================] - 0s 14ms/step - loss: 0.0091 - Accuracy: 1.0000 - val_loss: 0.0213 - val_Accuracy: 1.0000\n",
      "Epoch 45/100\n",
      "4/4 [==============================] - 0s 12ms/step - loss: 0.0091 - Accuracy: 1.0000 - val_loss: 0.0200 - val_Accuracy: 1.0000\n",
      "Epoch 46/100\n",
      "4/4 [==============================] - 0s 10ms/step - loss: 0.0094 - Accuracy: 1.0000 - val_loss: 0.0212 - val_Accuracy: 1.0000\n",
      "Epoch 47/100\n",
      "4/4 [==============================] - 0s 10ms/step - loss: 0.0093 - Accuracy: 1.0000 - val_loss: 0.0266 - val_Accuracy: 1.0000\n",
      "Epoch 48/100\n",
      "4/4 [==============================] - 0s 9ms/step - loss: 0.0093 - Accuracy: 1.0000 - val_loss: 0.0238 - val_Accuracy: 1.0000\n",
      "Epoch 49/100\n",
      "4/4 [==============================] - 0s 9ms/step - loss: 0.0085 - Accuracy: 1.0000 - val_loss: 0.0272 - val_Accuracy: 1.0000\n",
      "Epoch 50/100\n",
      "4/4 [==============================] - 0s 10ms/step - loss: 0.0085 - Accuracy: 1.0000 - val_loss: 0.0288 - val_Accuracy: 1.0000\n",
      "Epoch 51/100\n",
      "4/4 [==============================] - 0s 10ms/step - loss: 0.0082 - Accuracy: 1.0000 - val_loss: 0.0271 - val_Accuracy: 1.0000\n",
      "Epoch 52/100\n",
      "4/4 [==============================] - 0s 10ms/step - loss: 0.0081 - Accuracy: 1.0000 - val_loss: 0.0252 - val_Accuracy: 1.0000\n",
      "Epoch 53/100\n",
      "4/4 [==============================] - 0s 9ms/step - loss: 0.0079 - Accuracy: 1.0000 - val_loss: 0.0269 - val_Accuracy: 1.0000\n",
      "Epoch 54/100\n",
      "4/4 [==============================] - 0s 10ms/step - loss: 0.0084 - Accuracy: 1.0000 - val_loss: 0.0266 - val_Accuracy: 1.0000\n",
      "Epoch 55/100\n",
      "4/4 [==============================] - 0s 17ms/step - loss: 0.0078 - Accuracy: 1.0000 - val_loss: 0.0316 - val_Accuracy: 1.0000\n",
      "Epoch 56/100\n",
      "4/4 [==============================] - 0s 10ms/step - loss: 0.0080 - Accuracy: 1.0000 - val_loss: 0.0310 - val_Accuracy: 1.0000\n",
      "Epoch 57/100\n",
      "4/4 [==============================] - 0s 10ms/step - loss: 0.0076 - Accuracy: 1.0000 - val_loss: 0.0257 - val_Accuracy: 1.0000\n",
      "Epoch 58/100\n",
      "4/4 [==============================] - 0s 10ms/step - loss: 0.0076 - Accuracy: 1.0000 - val_loss: 0.0241 - val_Accuracy: 1.0000\n",
      "Epoch 59/100\n",
      "4/4 [==============================] - 0s 10ms/step - loss: 0.0074 - Accuracy: 1.0000 - val_loss: 0.0249 - val_Accuracy: 1.0000\n",
      "Epoch 60/100\n",
      "4/4 [==============================] - 0s 9ms/step - loss: 0.0072 - Accuracy: 1.0000 - val_loss: 0.0278 - val_Accuracy: 1.0000\n",
      "Epoch 61/100\n",
      "4/4 [==============================] - 0s 10ms/step - loss: 0.0069 - Accuracy: 1.0000 - val_loss: 0.0293 - val_Accuracy: 1.0000\n",
      "Epoch 62/100\n",
      "4/4 [==============================] - 0s 9ms/step - loss: 0.0067 - Accuracy: 1.0000 - val_loss: 0.0311 - val_Accuracy: 1.0000\n",
      "Epoch 63/100\n",
      "4/4 [==============================] - 0s 9ms/step - loss: 0.0067 - Accuracy: 1.0000 - val_loss: 0.0344 - val_Accuracy: 1.0000\n",
      "Epoch 64/100\n",
      "4/4 [==============================] - 0s 9ms/step - loss: 0.0067 - Accuracy: 1.0000 - val_loss: 0.0328 - val_Accuracy: 1.0000\n",
      "Epoch 65/100\n",
      "4/4 [==============================] - 0s 11ms/step - loss: 0.0065 - Accuracy: 1.0000 - val_loss: 0.0291 - val_Accuracy: 1.0000\n",
      "Epoch 66/100\n",
      "4/4 [==============================] - 0s 10ms/step - loss: 0.0064 - Accuracy: 1.0000 - val_loss: 0.0279 - val_Accuracy: 1.0000\n",
      "Epoch 67/100\n",
      "4/4 [==============================] - 0s 9ms/step - loss: 0.0064 - Accuracy: 1.0000 - val_loss: 0.0309 - val_Accuracy: 1.0000\n",
      "Epoch 68/100\n",
      "4/4 [==============================] - 0s 9ms/step - loss: 0.0063 - Accuracy: 1.0000 - val_loss: 0.0317 - val_Accuracy: 1.0000\n",
      "Epoch 69/100\n",
      "4/4 [==============================] - 0s 9ms/step - loss: 0.0062 - Accuracy: 1.0000 - val_loss: 0.0332 - val_Accuracy: 1.0000\n",
      "Epoch 70/100\n",
      "4/4 [==============================] - 0s 9ms/step - loss: 0.0064 - Accuracy: 1.0000 - val_loss: 0.0382 - val_Accuracy: 1.0000\n",
      "Epoch 71/100\n",
      "4/4 [==============================] - 0s 9ms/step - loss: 0.0063 - Accuracy: 1.0000 - val_loss: 0.0340 - val_Accuracy: 1.0000\n",
      "Epoch 72/100\n",
      "4/4 [==============================] - 0s 9ms/step - loss: 0.0064 - Accuracy: 1.0000 - val_loss: 0.0310 - val_Accuracy: 1.0000\n",
      "Epoch 73/100\n",
      "4/4 [==============================] - 0s 9ms/step - loss: 0.0057 - Accuracy: 1.0000 - val_loss: 0.0405 - val_Accuracy: 1.0000\n",
      "Epoch 74/100\n",
      "4/4 [==============================] - 0s 10ms/step - loss: 0.0060 - Accuracy: 1.0000 - val_loss: 0.0409 - val_Accuracy: 0.9630\n",
      "Epoch 75/100\n",
      "4/4 [==============================] - 0s 9ms/step - loss: 0.0059 - Accuracy: 1.0000 - val_loss: 0.0383 - val_Accuracy: 1.0000\n",
      "Epoch 76/100\n",
      "4/4 [==============================] - 0s 9ms/step - loss: 0.0057 - Accuracy: 1.0000 - val_loss: 0.0335 - val_Accuracy: 1.0000\n",
      "Epoch 77/100\n",
      "4/4 [==============================] - 0s 11ms/step - loss: 0.0056 - Accuracy: 1.0000 - val_loss: 0.0300 - val_Accuracy: 1.0000\n",
      "Epoch 78/100\n",
      "4/4 [==============================] - 0s 10ms/step - loss: 0.0054 - Accuracy: 1.0000 - val_loss: 0.0347 - val_Accuracy: 1.0000\n",
      "Epoch 79/100\n",
      "4/4 [==============================] - 0s 10ms/step - loss: 0.0054 - Accuracy: 1.0000 - val_loss: 0.0387 - val_Accuracy: 1.0000\n",
      "Epoch 80/100\n",
      "4/4 [==============================] - 0s 9ms/step - loss: 0.0053 - Accuracy: 1.0000 - val_loss: 0.0351 - val_Accuracy: 1.0000\n",
      "Epoch 81/100\n",
      "4/4 [==============================] - 0s 10ms/step - loss: 0.0051 - Accuracy: 1.0000 - val_loss: 0.0355 - val_Accuracy: 1.0000\n",
      "Epoch 82/100\n",
      "4/4 [==============================] - 0s 10ms/step - loss: 0.0052 - Accuracy: 1.0000 - val_loss: 0.0372 - val_Accuracy: 1.0000\n",
      "Epoch 83/100\n",
      "4/4 [==============================] - 0s 11ms/step - loss: 0.0052 - Accuracy: 1.0000 - val_loss: 0.0363 - val_Accuracy: 1.0000\n",
      "Epoch 84/100\n",
      "4/4 [==============================] - 0s 10ms/step - loss: 0.0050 - Accuracy: 1.0000 - val_loss: 0.0413 - val_Accuracy: 0.9630\n",
      "Epoch 85/100\n",
      "4/4 [==============================] - 0s 14ms/step - loss: 0.0049 - Accuracy: 1.0000 - val_loss: 0.0373 - val_Accuracy: 1.0000\n",
      "Epoch 86/100\n",
      "4/4 [==============================] - 0s 11ms/step - loss: 0.0049 - Accuracy: 1.0000 - val_loss: 0.0363 - val_Accuracy: 1.0000\n",
      "Epoch 87/100\n",
      "4/4 [==============================] - 0s 12ms/step - loss: 0.0049 - Accuracy: 1.0000 - val_loss: 0.0395 - val_Accuracy: 0.9630\n",
      "Epoch 88/100\n",
      "4/4 [==============================] - 0s 13ms/step - loss: 0.0048 - Accuracy: 1.0000 - val_loss: 0.0387 - val_Accuracy: 1.0000\n",
      "Epoch 89/100\n",
      "4/4 [==============================] - 0s 14ms/step - loss: 0.0047 - Accuracy: 1.0000 - val_loss: 0.0394 - val_Accuracy: 0.9630\n",
      "Epoch 90/100\n",
      "4/4 [==============================] - 0s 10ms/step - loss: 0.0045 - Accuracy: 1.0000 - val_loss: 0.0379 - val_Accuracy: 1.0000\n",
      "Epoch 91/100\n",
      "4/4 [==============================] - 0s 11ms/step - loss: 0.0047 - Accuracy: 1.0000 - val_loss: 0.0410 - val_Accuracy: 0.9630\n",
      "Epoch 92/100\n",
      "4/4 [==============================] - 0s 11ms/step - loss: 0.0050 - Accuracy: 1.0000 - val_loss: 0.0486 - val_Accuracy: 0.9630\n",
      "Epoch 93/100\n",
      "4/4 [==============================] - 0s 10ms/step - loss: 0.0045 - Accuracy: 1.0000 - val_loss: 0.0406 - val_Accuracy: 0.9630\n",
      "Epoch 94/100\n",
      "4/4 [==============================] - 0s 16ms/step - loss: 0.0046 - Accuracy: 1.0000 - val_loss: 0.0379 - val_Accuracy: 1.0000\n",
      "Epoch 95/100\n",
      "4/4 [==============================] - 0s 12ms/step - loss: 0.0044 - Accuracy: 1.0000 - val_loss: 0.0446 - val_Accuracy: 0.9630\n",
      "Epoch 96/100\n",
      "4/4 [==============================] - 0s 11ms/step - loss: 0.0044 - Accuracy: 1.0000 - val_loss: 0.0491 - val_Accuracy: 0.9630\n",
      "Epoch 97/100\n",
      "4/4 [==============================] - 0s 12ms/step - loss: 0.0042 - Accuracy: 1.0000 - val_loss: 0.0457 - val_Accuracy: 0.9630\n",
      "Epoch 98/100\n",
      "4/4 [==============================] - 0s 18ms/step - loss: 0.0041 - Accuracy: 1.0000 - val_loss: 0.0433 - val_Accuracy: 0.9630\n",
      "Epoch 99/100\n",
      "4/4 [==============================] - 0s 12ms/step - loss: 0.0041 - Accuracy: 1.0000 - val_loss: 0.0430 - val_Accuracy: 0.9630\n",
      "Epoch 100/100\n",
      "4/4 [==============================] - 0s 12ms/step - loss: 0.0040 - Accuracy: 1.0000 - val_loss: 0.0456 - val_Accuracy: 0.9630\n"
     ]
    }
   ],
   "source": [
    "history = model.fit(X_train,Y_train,validation_split= .2, epochs=100)"
   ]
  },
  {
   "cell_type": "code",
   "execution_count": 50,
   "id": "5ce9fa35",
   "metadata": {},
   "outputs": [
    {
     "data": {
      "text/plain": [
       "dict_keys(['loss', 'Accuracy', 'val_loss', 'val_Accuracy'])"
      ]
     },
     "execution_count": 50,
     "metadata": {},
     "output_type": "execute_result"
    }
   ],
   "source": [
    "history.history.keys()"
   ]
  },
  {
   "cell_type": "code",
   "execution_count": 51,
   "id": "00fc9508",
   "metadata": {},
   "outputs": [
    {
     "data": {
      "image/png": "[encoded data removed]",
      "text/plain": [
       "<Figure size 432x288 with 1 Axes>"
      ]
     },
     "metadata": {
      "needs_background": "light"
     },
     "output_type": "display_data"
    }
   ],
   "source": [
    "# summarize history for accuracy\n",
    "plt.plot(history.history['Accuracy'])\n",
    "plt.plot(history.history['val_Accuracy'])\n",
    "plt.title('model accuracy')\n",
    "plt.ylabel('accuracy')\n",
    "plt.xlabel('epoch')\n",
    "plt.legend(['train', 'test'], loc='upper left')\n",
    "plt.show()"
   ]
  },
  {
   "cell_type": "code",
   "execution_count": 52,
   "id": "d3050857",
   "metadata": {},
   "outputs": [
    {
     "data": {
      "image/png": "[encoded data removed]",
      "text/plain": [
       "<Figure size 432x288 with 1 Axes>"
      ]
     },
     "metadata": {
      "needs_background": "light"
     },
     "output_type": "display_data"
    }
   ],
   "source": [
    "# summarize history for loss\n",
    "plt.plot(history.history['loss'])\n",
    "plt.plot(history.history['val_loss'])\n",
    "plt.title('model loss')\n",
    "plt.ylabel('loss')\n",
    "plt.xlabel('epoch')\n",
    "plt.legend(['train', 'test'], loc='upper left')\n",
    "plt.show()"
   ]
  },
  {
   "cell_type": "markdown",
   "id": "8da21f7f-e300-45d1-8ac2-4a62a7689b1c",
   "metadata": {},
   "source": [
    "### Evaluating the results of the model using the test dataset"
   ]
  },
  {
   "cell_type": "code",
   "execution_count": 18,
   "id": "9de0d51e-495d-4786-8427-2f78f03f79c4",
   "metadata": {},
   "outputs": [
    {
     "name": "stdout",
     "output_type": "stream",
     "text": [
      "2/2 [==============================] - 0s 2ms/step - loss: 0.6909 - Accuracy: 0.7941\n"
     ]
    },
    {
     "name": "stderr",
     "output_type": "stream",
     "text": [
      "/Users/jidhu/opt/anaconda3/envs/turbo/lib/python3.9/site-packages/tensorflow/python/util/dispatch.py:1096: UserWarning: \"`sparse_categorical_crossentropy` received `from_logits=True`, but the `output` argument was produced by a sigmoid or softmax activation and thus does not represent logits. Was this intended?\"\n",
      "  return dispatch_target(*args, **kwargs)\n"
     ]
    },
    {
     "data": {
      "text/plain": [
       "[0.6908513903617859, 0.7941176295280457]"
      ]
     },
     "execution_count": 18,
     "metadata": {},
     "output_type": "execute_result"
    }
   ],
   "source": [
    "\n",
    "model.evaluate(X_test,Y_test)"
   ]
  },
  {
   "cell_type": "markdown",
   "id": "18d72d40-adaa-4567-866a-59ad9ec485ab",
   "metadata": {},
   "source": [
    "### Model Evaluation Statistics"
   ]
  },
  {
   "cell_type": "code",
   "execution_count": 19,
   "id": "9e73ca5a-2c35-4f06-aeee-860392feb897",
   "metadata": {},
   "outputs": [],
   "source": [
    "y_pred=model.predict(X_test)\n",
    "yp=[]\n",
    "for i in y_pred:\n",
    "    yp.append(np.argmax(i))\n"
   ]
  },
  {
   "cell_type": "code",
   "execution_count": 20,
   "id": "fdf1004f-e3c7-447f-9010-8a1de4d3d806",
   "metadata": {},
   "outputs": [
    {
     "name": "stdout",
     "output_type": "stream",
     "text": [
      "              precision    recall  f1-score   support\n",
      "\n",
      "           0       0.50      1.00      0.67         1\n",
      "           1       0.60      0.60      0.60         5\n",
      "           2       0.00      0.00      0.00         0\n",
      "           3       0.92      0.82      0.87        28\n",
      "\n",
      "    accuracy                           0.79        34\n",
      "   macro avg       0.51      0.61      0.53        34\n",
      "weighted avg       0.86      0.79      0.82        34\n",
      "\n"
     ]
    },
    {
     "name": "stderr",
     "output_type": "stream",
     "text": [
      "/Users/jidhu/opt/anaconda3/envs/turbo/lib/python3.9/site-packages/sklearn/metrics/_classification.py:1327: UndefinedMetricWarning: Recall and F-score are ill-defined and being set to 0.0 in labels with no true samples. Use `zero_division` parameter to control this behavior.\n",
      "  _warn_prf(average, modifier, msg_start, len(result))\n",
      "/Users/jidhu/opt/anaconda3/envs/turbo/lib/python3.9/site-packages/sklearn/metrics/_classification.py:1327: UndefinedMetricWarning: Recall and F-score are ill-defined and being set to 0.0 in labels with no true samples. Use `zero_division` parameter to control this behavior.\n",
      "  _warn_prf(average, modifier, msg_start, len(result))\n",
      "/Users/jidhu/opt/anaconda3/envs/turbo/lib/python3.9/site-packages/sklearn/metrics/_classification.py:1327: UndefinedMetricWarning: Recall and F-score are ill-defined and being set to 0.0 in labels with no true samples. Use `zero_division` parameter to control this behavior.\n",
      "  _warn_prf(average, modifier, msg_start, len(result))\n"
     ]
    }
   ],
   "source": [
    "from sklearn.metrics import confusion_matrix , classification_report\n",
    "\n",
    "print(classification_report(Y_test,yp))"
   ]
  },
  {
   "cell_type": "markdown",
   "id": "fc1f44ea-8c65-4c4b-8e11-3e854dc6fe5f",
   "metadata": {},
   "source": [
    "### Creating a confusion matrix"
   ]
  },
  {
   "cell_type": "code",
   "execution_count": 21,
   "id": "c77dbffc-eda2-49a4-be1e-16c3c8052ae0",
   "metadata": {},
   "outputs": [
    {
     "data": {
      "text/plain": [
       "Text(69.0, 0.5, 'Truth')"
      ]
     },
     "execution_count": 21,
     "metadata": {},
     "output_type": "execute_result"
    },
    {
     "data": {
      "image/png": "[encoded data removed]",
      "text/plain": [
       "<Figure size 720x504 with 2 Axes>"
      ]
     },
     "metadata": {
      "needs_background": "light"
     },
     "output_type": "display_data"
    }
   ],
   "source": [
    "cm = tf.math.confusion_matrix(labels=Y_test,predictions=yp)\n",
    "\n",
    "plt.figure(figsize = (10,7))\n",
    "sn.heatmap(cm, annot=True, fmt='d')\n",
    "plt.xlabel('Predicted')\n",
    "plt.ylabel('Truth')"
   ]
  },
  {
   "cell_type": "code",
   "execution_count": 22,
   "id": "7457a313-1c84-4e11-b1a5-fbb612a8baba",
   "metadata": {},
   "outputs": [],
   "source": [
    "##User Defined function to return the class of diabetes predicted by the model.\n",
    "def prediction(X):\n",
    "    y_p=model.predict(X)\n",
    "    return class_labels[np.argmax(y_p)]"
   ]
  },
  {
   "cell_type": "code",
   "execution_count": 23,
   "id": "71dc5c88-85d3-4434-81db-c3e2157ff676",
   "metadata": {},
   "outputs": [
    {
     "name": "stdout",
     "output_type": "stream",
     "text": [
      "Class Of Diabetes Detected: Prediabetic\n"
     ]
    }
   ],
   "source": [
    "##TESTING\n",
    "sample=X_test.iloc[:1,:]\n",
    "print(\"Class Of Diabetes Detected: \"+prediction(sample))"
   ]
  },
  {
   "cell_type": "markdown",
   "id": "95a18f74-591f-4598-8e6b-2342699932f7",
   "metadata": {},
   "source": [
    "###  Saving the Model"
   ]
  },
  {
   "cell_type": "code",
   "execution_count": 26,
   "id": "129927ac-6906-4e84-8123-47a9df9d8b5d",
   "metadata": {},
   "outputs": [],
   "source": [
    "model.save(\"model/diabetes.h5\", overwrite=True, include_optimizer=False, save_format='tf')"
   ]
  },
  {
   "cell_type": "code",
   "execution_count": 25,
   "id": "13e0c188-7a98-4167-bba8-79a2a81d7303",
   "metadata": {},
   "outputs": [],
   "source": [
    "# model.save('Model1.h5')"
   ]
  },
  {
   "cell_type": "code",
   "execution_count": null,
   "id": "27a2fdf0",
   "metadata": {},
   "outputs": [],
   "source": []
  }
 ],
 "metadata": {
  "kernelspec": {
   "display_name": "Python 3.9.12 ('turbo')",
   "language": "python",
   "name": "python3"
  },
  "language_info": {
   "codemirror_mode": {
    "name": "ipython",
    "version": 3
   },
   "file_extension": ".py",
   "mimetype": "text/x-python",
   "name": "python",
   "nbconvert_exporter": "python",
   "pygments_lexer": "ipython3",
   "version": "3.9.12"
  },
  "vscode": {
   "interpreter": {
    "hash": "1e5e8e1f0c003396e272d0f31cc073439df364ee2686f37bf8cd2f23feb75b48"
   }
  }
 },
 "nbformat": 4,
 "nbformat_minor": 5
}
